{
  "nbformat": 4,
  "nbformat_minor": 0,
  "metadata": {
    "colab": {
      "name": "PacientesExtraSistolicos.ipynb",
      "provenance": [],
      "collapsed_sections": []
    },
    "kernelspec": {
      "name": "python3",
      "display_name": "Python 3"
    },
    "language_info": {
      "name": "python"
    }
  },
  "cells": [
    {
      "cell_type": "markdown",
      "metadata": {
        "id": "bbix9IQds3Sa"
      },
      "source": [
        ">Instituto de Informática  <br>\n",
        "Alex Echeverria <br>\n",
        "### Universidade Federal de Goiás <br>\n",
        "### **Inteligência Artificial Aplicada a Saúde** <br>\n",
        "\n",
        "# Batimentos cardíacos - MIT-BIH | Paciente 2"
      ]
    },
    {
      "cell_type": "code",
      "metadata": {
        "id": "3VP3ZO6ns5yT"
      },
      "source": [
        "import os, sys\n",
        "import numpy as np\n",
        "import pandas as pd\n",
        "import matplotlib.pyplot as plt\n",
        "\n",
        "Paciente = '2';\n",
        "\n",
        "# Definir o caminho onde o dataset se encontra\n",
        "base_path = 'https://raw.githubusercontent.com/aveusalex/Predicao_Extra_sistolicos/main/Paciente2' + '/'\n",
        "\n",
        "# # Carregar dataset \n",
        "xtest = pd.read_csv(base_path + 'Teste.csv')\n",
        "xtrain = pd.read_csv(base_path + 'Treino.csv')\n",
        "idx_normal = pd.read_csv(base_path + 'Index.csv')\n"
      ],
      "execution_count": 101,
      "outputs": []
    },
    {
      "cell_type": "code",
      "metadata": {
        "colab": {
          "base_uri": "https://localhost:8080/",
          "height": 252
        },
        "id": "0nrwEZDZP5Fv",
        "outputId": "a93f3253-a074-4571-c4a9-2d1f9ba36c39"
      },
      "source": [
        "xtest.head()"
      ],
      "execution_count": 102,
      "outputs": [
        {
          "output_type": "execute_result",
          "data": {
            "text/html": [
              "<div>\n",
              "<style scoped>\n",
              "    .dataframe tbody tr th:only-of-type {\n",
              "        vertical-align: middle;\n",
              "    }\n",
              "\n",
              "    .dataframe tbody tr th {\n",
              "        vertical-align: top;\n",
              "    }\n",
              "\n",
              "    .dataframe thead th {\n",
              "        text-align: right;\n",
              "    }\n",
              "</style>\n",
              "<table border=\"1\" class=\"dataframe\">\n",
              "  <thead>\n",
              "    <tr style=\"text-align: right;\">\n",
              "      <th></th>\n",
              "      <th>1</th>\n",
              "      <th>2</th>\n",
              "      <th>3</th>\n",
              "      <th>4</th>\n",
              "      <th>5</th>\n",
              "      <th>6</th>\n",
              "      <th>7</th>\n",
              "      <th>8</th>\n",
              "      <th>9</th>\n",
              "      <th>10</th>\n",
              "      <th>11</th>\n",
              "      <th>12</th>\n",
              "      <th>13</th>\n",
              "      <th>14</th>\n",
              "      <th>15</th>\n",
              "      <th>16</th>\n",
              "      <th>17</th>\n",
              "      <th>18</th>\n",
              "      <th>19</th>\n",
              "      <th>20</th>\n",
              "      <th>21</th>\n",
              "      <th>22</th>\n",
              "      <th>23</th>\n",
              "      <th>24</th>\n",
              "      <th>25</th>\n",
              "      <th>26</th>\n",
              "      <th>27</th>\n",
              "      <th>28</th>\n",
              "      <th>29</th>\n",
              "      <th>30</th>\n",
              "      <th>31</th>\n",
              "      <th>32</th>\n",
              "      <th>33</th>\n",
              "      <th>34</th>\n",
              "      <th>35</th>\n",
              "      <th>36</th>\n",
              "      <th>37</th>\n",
              "      <th>38</th>\n",
              "      <th>39</th>\n",
              "      <th>40</th>\n",
              "      <th>...</th>\n",
              "      <th>43</th>\n",
              "      <th>44</th>\n",
              "      <th>45</th>\n",
              "      <th>46</th>\n",
              "      <th>47</th>\n",
              "      <th>48</th>\n",
              "      <th>49</th>\n",
              "      <th>50</th>\n",
              "      <th>51</th>\n",
              "      <th>52</th>\n",
              "      <th>53</th>\n",
              "      <th>54</th>\n",
              "      <th>55</th>\n",
              "      <th>56</th>\n",
              "      <th>57</th>\n",
              "      <th>58</th>\n",
              "      <th>59</th>\n",
              "      <th>60</th>\n",
              "      <th>61</th>\n",
              "      <th>62</th>\n",
              "      <th>63</th>\n",
              "      <th>64</th>\n",
              "      <th>65</th>\n",
              "      <th>66</th>\n",
              "      <th>67</th>\n",
              "      <th>68</th>\n",
              "      <th>69</th>\n",
              "      <th>70</th>\n",
              "      <th>71</th>\n",
              "      <th>72</th>\n",
              "      <th>73</th>\n",
              "      <th>74</th>\n",
              "      <th>75</th>\n",
              "      <th>76</th>\n",
              "      <th>77</th>\n",
              "      <th>78</th>\n",
              "      <th>79</th>\n",
              "      <th>80</th>\n",
              "      <th>81</th>\n",
              "      <th>82</th>\n",
              "    </tr>\n",
              "  </thead>\n",
              "  <tbody>\n",
              "    <tr>\n",
              "      <th>0</th>\n",
              "      <td>-1.812987</td>\n",
              "      <td>-1.809091</td>\n",
              "      <td>-1.742857</td>\n",
              "      <td>-1.628571</td>\n",
              "      <td>-1.510390</td>\n",
              "      <td>-1.431169</td>\n",
              "      <td>-1.406494</td>\n",
              "      <td>-1.414286</td>\n",
              "      <td>-1.418182</td>\n",
              "      <td>-1.392208</td>\n",
              "      <td>-1.322078</td>\n",
              "      <td>-1.194805</td>\n",
              "      <td>-1.037662</td>\n",
              "      <td>-0.827273</td>\n",
              "      <td>-0.637662</td>\n",
              "      <td>-0.429870</td>\n",
              "      <td>-0.249351</td>\n",
              "      <td>-0.112987</td>\n",
              "      <td>0.031169</td>\n",
              "      <td>0.136364</td>\n",
              "      <td>2.129870e-01</td>\n",
              "      <td>0.233766</td>\n",
              "      <td>0.253247</td>\n",
              "      <td>0.349351</td>\n",
              "      <td>0.541558</td>\n",
              "      <td>0.846753</td>\n",
              "      <td>1.274026</td>\n",
              "      <td>1.931169</td>\n",
              "      <td>2.825974</td>\n",
              "      <td>3.964935</td>\n",
              "      <td>5.233766</td>\n",
              "      <td>6.538961</td>\n",
              "      <td>7.653247</td>\n",
              "      <td>8.329870</td>\n",
              "      <td>8.558442</td>\n",
              "      <td>8.293506</td>\n",
              "      <td>7.570130</td>\n",
              "      <td>6.412987</td>\n",
              "      <td>4.779221</td>\n",
              "      <td>2.777922</td>\n",
              "      <td>...</td>\n",
              "      <td>-4.015584</td>\n",
              "      <td>-6.161039</td>\n",
              "      <td>-8.066234</td>\n",
              "      <td>-9.715584</td>\n",
              "      <td>-11.063636</td>\n",
              "      <td>-12.019481</td>\n",
              "      <td>-12.403896</td>\n",
              "      <td>-12.235065</td>\n",
              "      <td>-11.457143</td>\n",
              "      <td>-10.137662</td>\n",
              "      <td>-8.310390</td>\n",
              "      <td>-6.228571</td>\n",
              "      <td>-4.164935</td>\n",
              "      <td>-2.296104</td>\n",
              "      <td>-0.640260</td>\n",
              "      <td>0.728571</td>\n",
              "      <td>1.775325</td>\n",
              "      <td>2.472727</td>\n",
              "      <td>2.724675</td>\n",
              "      <td>2.715584</td>\n",
              "      <td>2.476623</td>\n",
              "      <td>2.145455</td>\n",
              "      <td>1.802597</td>\n",
              "      <td>1.493506</td>\n",
              "      <td>1.157143</td>\n",
              "      <td>0.816883</td>\n",
              "      <td>0.522078</td>\n",
              "      <td>0.310390</td>\n",
              "      <td>0.124675</td>\n",
              "      <td>-0.001299</td>\n",
              "      <td>-0.090909</td>\n",
              "      <td>-0.100000</td>\n",
              "      <td>-0.040260</td>\n",
              "      <td>0.007792</td>\n",
              "      <td>0.055844</td>\n",
              "      <td>0.061039</td>\n",
              "      <td>0.036364</td>\n",
              "      <td>-0.032468</td>\n",
              "      <td>-0.061039</td>\n",
              "      <td>1</td>\n",
              "    </tr>\n",
              "    <tr>\n",
              "      <th>1</th>\n",
              "      <td>-0.228571</td>\n",
              "      <td>-0.155844</td>\n",
              "      <td>-0.079221</td>\n",
              "      <td>-0.015584</td>\n",
              "      <td>-0.014286</td>\n",
              "      <td>0.010390</td>\n",
              "      <td>-0.025974</td>\n",
              "      <td>0.016883</td>\n",
              "      <td>0.046753</td>\n",
              "      <td>0.119481</td>\n",
              "      <td>0.161039</td>\n",
              "      <td>0.194805</td>\n",
              "      <td>0.232468</td>\n",
              "      <td>0.259740</td>\n",
              "      <td>0.333766</td>\n",
              "      <td>0.401299</td>\n",
              "      <td>0.457143</td>\n",
              "      <td>0.535065</td>\n",
              "      <td>0.659740</td>\n",
              "      <td>0.894805</td>\n",
              "      <td>1.183117e+00</td>\n",
              "      <td>1.437662</td>\n",
              "      <td>1.583117</td>\n",
              "      <td>1.632468</td>\n",
              "      <td>1.592208</td>\n",
              "      <td>1.406494</td>\n",
              "      <td>1.198701</td>\n",
              "      <td>0.815584</td>\n",
              "      <td>0.323377</td>\n",
              "      <td>-0.370130</td>\n",
              "      <td>-1.087013</td>\n",
              "      <td>-1.801299</td>\n",
              "      <td>-2.375325</td>\n",
              "      <td>-2.658442</td>\n",
              "      <td>-2.581818</td>\n",
              "      <td>-2.100000</td>\n",
              "      <td>-1.316883</td>\n",
              "      <td>-0.468831</td>\n",
              "      <td>0.154545</td>\n",
              "      <td>0.277922</td>\n",
              "      <td>...</td>\n",
              "      <td>-0.731169</td>\n",
              "      <td>-0.961039</td>\n",
              "      <td>-1.027273</td>\n",
              "      <td>-0.922078</td>\n",
              "      <td>-0.623377</td>\n",
              "      <td>-0.257143</td>\n",
              "      <td>0.074026</td>\n",
              "      <td>0.203896</td>\n",
              "      <td>0.076623</td>\n",
              "      <td>-0.237662</td>\n",
              "      <td>-0.614286</td>\n",
              "      <td>-0.975325</td>\n",
              "      <td>-1.209091</td>\n",
              "      <td>-1.122078</td>\n",
              "      <td>-0.596104</td>\n",
              "      <td>0.375325</td>\n",
              "      <td>1.562338</td>\n",
              "      <td>2.627273</td>\n",
              "      <td>3.167532</td>\n",
              "      <td>3.151948</td>\n",
              "      <td>2.762338</td>\n",
              "      <td>2.237662</td>\n",
              "      <td>1.774026</td>\n",
              "      <td>1.357143</td>\n",
              "      <td>1.053247</td>\n",
              "      <td>0.901299</td>\n",
              "      <td>0.805195</td>\n",
              "      <td>0.844156</td>\n",
              "      <td>0.906494</td>\n",
              "      <td>0.958442</td>\n",
              "      <td>0.954545</td>\n",
              "      <td>0.902597</td>\n",
              "      <td>0.825974</td>\n",
              "      <td>0.722078</td>\n",
              "      <td>0.638961</td>\n",
              "      <td>0.598701</td>\n",
              "      <td>0.535065</td>\n",
              "      <td>0.523377</td>\n",
              "      <td>0.488312</td>\n",
              "      <td>1</td>\n",
              "    </tr>\n",
              "    <tr>\n",
              "      <th>2</th>\n",
              "      <td>-0.451948</td>\n",
              "      <td>-0.370130</td>\n",
              "      <td>-0.293506</td>\n",
              "      <td>-0.209091</td>\n",
              "      <td>-0.131169</td>\n",
              "      <td>-0.050649</td>\n",
              "      <td>0.028571</td>\n",
              "      <td>0.037662</td>\n",
              "      <td>0.087013</td>\n",
              "      <td>0.138961</td>\n",
              "      <td>0.140260</td>\n",
              "      <td>0.196104</td>\n",
              "      <td>0.248052</td>\n",
              "      <td>0.292208</td>\n",
              "      <td>0.338961</td>\n",
              "      <td>0.336364</td>\n",
              "      <td>0.370130</td>\n",
              "      <td>0.436364</td>\n",
              "      <td>0.509091</td>\n",
              "      <td>0.635065</td>\n",
              "      <td>8.000000e-01</td>\n",
              "      <td>0.911688</td>\n",
              "      <td>0.870130</td>\n",
              "      <td>0.636364</td>\n",
              "      <td>0.176623</td>\n",
              "      <td>-0.485714</td>\n",
              "      <td>-1.297403</td>\n",
              "      <td>-2.298701</td>\n",
              "      <td>-3.516883</td>\n",
              "      <td>-4.818182</td>\n",
              "      <td>-6.038961</td>\n",
              "      <td>-6.993506</td>\n",
              "      <td>-7.532468</td>\n",
              "      <td>-7.610390</td>\n",
              "      <td>-7.190909</td>\n",
              "      <td>-6.296104</td>\n",
              "      <td>-5.087013</td>\n",
              "      <td>-3.777922</td>\n",
              "      <td>-2.644156</td>\n",
              "      <td>-1.822078</td>\n",
              "      <td>...</td>\n",
              "      <td>-0.103896</td>\n",
              "      <td>0.664935</td>\n",
              "      <td>1.512987</td>\n",
              "      <td>2.398701</td>\n",
              "      <td>3.249351</td>\n",
              "      <td>4.019481</td>\n",
              "      <td>4.503896</td>\n",
              "      <td>4.559740</td>\n",
              "      <td>4.241558</td>\n",
              "      <td>3.723377</td>\n",
              "      <td>3.157143</td>\n",
              "      <td>2.693506</td>\n",
              "      <td>2.463636</td>\n",
              "      <td>2.538961</td>\n",
              "      <td>3.020779</td>\n",
              "      <td>3.754545</td>\n",
              "      <td>4.548052</td>\n",
              "      <td>5.120779</td>\n",
              "      <td>5.244156</td>\n",
              "      <td>4.888312</td>\n",
              "      <td>4.174026</td>\n",
              "      <td>3.383117</td>\n",
              "      <td>2.594805</td>\n",
              "      <td>1.945455</td>\n",
              "      <td>1.518182</td>\n",
              "      <td>1.275325</td>\n",
              "      <td>1.170130</td>\n",
              "      <td>1.072727</td>\n",
              "      <td>0.963636</td>\n",
              "      <td>0.883117</td>\n",
              "      <td>0.857143</td>\n",
              "      <td>0.802597</td>\n",
              "      <td>0.710390</td>\n",
              "      <td>0.615584</td>\n",
              "      <td>0.536364</td>\n",
              "      <td>0.544156</td>\n",
              "      <td>0.525974</td>\n",
              "      <td>0.538961</td>\n",
              "      <td>0.566234</td>\n",
              "      <td>1</td>\n",
              "    </tr>\n",
              "    <tr>\n",
              "      <th>3</th>\n",
              "      <td>-0.383117</td>\n",
              "      <td>-0.427273</td>\n",
              "      <td>-0.476623</td>\n",
              "      <td>-0.598701</td>\n",
              "      <td>-0.698701</td>\n",
              "      <td>-0.762338</td>\n",
              "      <td>-0.812987</td>\n",
              "      <td>-0.820779</td>\n",
              "      <td>-0.783117</td>\n",
              "      <td>-0.672727</td>\n",
              "      <td>-0.506494</td>\n",
              "      <td>-0.301299</td>\n",
              "      <td>-0.115584</td>\n",
              "      <td>-0.010390</td>\n",
              "      <td>0.066234</td>\n",
              "      <td>0.155844</td>\n",
              "      <td>0.203896</td>\n",
              "      <td>0.263636</td>\n",
              "      <td>0.346753</td>\n",
              "      <td>0.461039</td>\n",
              "      <td>7.298701e-01</td>\n",
              "      <td>1.163636</td>\n",
              "      <td>1.833766</td>\n",
              "      <td>2.724675</td>\n",
              "      <td>3.801299</td>\n",
              "      <td>5.070130</td>\n",
              "      <td>6.355844</td>\n",
              "      <td>7.584416</td>\n",
              "      <td>8.740260</td>\n",
              "      <td>9.783117</td>\n",
              "      <td>10.718182</td>\n",
              "      <td>11.501299</td>\n",
              "      <td>12.064935</td>\n",
              "      <td>12.306494</td>\n",
              "      <td>12.157143</td>\n",
              "      <td>11.551948</td>\n",
              "      <td>10.512987</td>\n",
              "      <td>8.971429</td>\n",
              "      <td>6.985714</td>\n",
              "      <td>4.641558</td>\n",
              "      <td>...</td>\n",
              "      <td>-3.193506</td>\n",
              "      <td>-5.572727</td>\n",
              "      <td>-7.661039</td>\n",
              "      <td>-9.310390</td>\n",
              "      <td>-10.511688</td>\n",
              "      <td>-11.319481</td>\n",
              "      <td>-11.744156</td>\n",
              "      <td>-11.825974</td>\n",
              "      <td>-11.538961</td>\n",
              "      <td>-10.902597</td>\n",
              "      <td>-9.992208</td>\n",
              "      <td>-8.884416</td>\n",
              "      <td>-7.662338</td>\n",
              "      <td>-6.390909</td>\n",
              "      <td>-5.128571</td>\n",
              "      <td>-3.900000</td>\n",
              "      <td>-2.829870</td>\n",
              "      <td>-1.924675</td>\n",
              "      <td>-1.176623</td>\n",
              "      <td>-0.625974</td>\n",
              "      <td>-0.212987</td>\n",
              "      <td>0.022078</td>\n",
              "      <td>0.164935</td>\n",
              "      <td>0.231169</td>\n",
              "      <td>0.254545</td>\n",
              "      <td>0.206494</td>\n",
              "      <td>0.220779</td>\n",
              "      <td>0.280519</td>\n",
              "      <td>0.329870</td>\n",
              "      <td>0.396104</td>\n",
              "      <td>0.507792</td>\n",
              "      <td>0.544156</td>\n",
              "      <td>0.584416</td>\n",
              "      <td>0.581818</td>\n",
              "      <td>0.509091</td>\n",
              "      <td>0.422078</td>\n",
              "      <td>0.350649</td>\n",
              "      <td>0.283117</td>\n",
              "      <td>0.249351</td>\n",
              "      <td>1</td>\n",
              "    </tr>\n",
              "    <tr>\n",
              "      <th>4</th>\n",
              "      <td>-1.629870</td>\n",
              "      <td>-1.742857</td>\n",
              "      <td>-1.851948</td>\n",
              "      <td>-1.983117</td>\n",
              "      <td>-2.107792</td>\n",
              "      <td>-2.181818</td>\n",
              "      <td>-2.174026</td>\n",
              "      <td>-2.124675</td>\n",
              "      <td>-2.063636</td>\n",
              "      <td>-1.914286</td>\n",
              "      <td>-1.762338</td>\n",
              "      <td>-1.623377</td>\n",
              "      <td>-1.474026</td>\n",
              "      <td>-1.397403</td>\n",
              "      <td>-1.309091</td>\n",
              "      <td>-1.181818</td>\n",
              "      <td>-1.045455</td>\n",
              "      <td>-0.890909</td>\n",
              "      <td>-0.631169</td>\n",
              "      <td>-0.348052</td>\n",
              "      <td>2.879641e-15</td>\n",
              "      <td>0.468831</td>\n",
              "      <td>1.105195</td>\n",
              "      <td>1.922078</td>\n",
              "      <td>2.850649</td>\n",
              "      <td>3.877922</td>\n",
              "      <td>4.887013</td>\n",
              "      <td>5.928571</td>\n",
              "      <td>6.932468</td>\n",
              "      <td>7.833766</td>\n",
              "      <td>8.694805</td>\n",
              "      <td>9.440260</td>\n",
              "      <td>9.955844</td>\n",
              "      <td>10.257143</td>\n",
              "      <td>10.119481</td>\n",
              "      <td>9.570130</td>\n",
              "      <td>8.681818</td>\n",
              "      <td>7.459740</td>\n",
              "      <td>5.898701</td>\n",
              "      <td>4.096104</td>\n",
              "      <td>...</td>\n",
              "      <td>-2.303896</td>\n",
              "      <td>-4.412987</td>\n",
              "      <td>-6.242857</td>\n",
              "      <td>-7.776623</td>\n",
              "      <td>-8.998701</td>\n",
              "      <td>-9.953247</td>\n",
              "      <td>-10.540260</td>\n",
              "      <td>-10.811688</td>\n",
              "      <td>-10.771429</td>\n",
              "      <td>-10.438961</td>\n",
              "      <td>-9.829870</td>\n",
              "      <td>-9.006494</td>\n",
              "      <td>-8.010390</td>\n",
              "      <td>-6.946753</td>\n",
              "      <td>-5.837662</td>\n",
              "      <td>-4.732468</td>\n",
              "      <td>-3.676623</td>\n",
              "      <td>-2.744156</td>\n",
              "      <td>-1.931169</td>\n",
              "      <td>-1.341558</td>\n",
              "      <td>-0.938961</td>\n",
              "      <td>-0.655844</td>\n",
              "      <td>-0.535065</td>\n",
              "      <td>-0.427273</td>\n",
              "      <td>-0.301299</td>\n",
              "      <td>-0.233766</td>\n",
              "      <td>-0.163636</td>\n",
              "      <td>-0.055844</td>\n",
              "      <td>-0.019481</td>\n",
              "      <td>0.057143</td>\n",
              "      <td>0.080519</td>\n",
              "      <td>0.063636</td>\n",
              "      <td>0.019481</td>\n",
              "      <td>-0.077922</td>\n",
              "      <td>-0.119481</td>\n",
              "      <td>-0.102597</td>\n",
              "      <td>-0.051948</td>\n",
              "      <td>-0.009091</td>\n",
              "      <td>0.011688</td>\n",
              "      <td>1</td>\n",
              "    </tr>\n",
              "  </tbody>\n",
              "</table>\n",
              "<p>5 rows × 82 columns</p>\n",
              "</div>"
            ],
            "text/plain": [
              "          1         2         3         4  ...        79        80        81  82\n",
              "0 -1.812987 -1.809091 -1.742857 -1.628571  ...  0.036364 -0.032468 -0.061039   1\n",
              "1 -0.228571 -0.155844 -0.079221 -0.015584  ...  0.535065  0.523377  0.488312   1\n",
              "2 -0.451948 -0.370130 -0.293506 -0.209091  ...  0.525974  0.538961  0.566234   1\n",
              "3 -0.383117 -0.427273 -0.476623 -0.598701  ...  0.350649  0.283117  0.249351   1\n",
              "4 -1.629870 -1.742857 -1.851948 -1.983117  ... -0.051948 -0.009091  0.011688   1\n",
              "\n",
              "[5 rows x 82 columns]"
            ]
          },
          "metadata": {},
          "execution_count": 102
        }
      ]
    },
    {
      "cell_type": "code",
      "metadata": {
        "colab": {
          "base_uri": "https://localhost:8080/"
        },
        "id": "shCpwD-zROmG",
        "outputId": "159816f6-2e64-476d-f8fc-e90ca8879575"
      },
      "source": [
        "xtrain.shape"
      ],
      "execution_count": 79,
      "outputs": [
        {
          "output_type": "execute_result",
          "data": {
            "text/plain": [
              "(374, 82)"
            ]
          },
          "metadata": {},
          "execution_count": 79
        }
      ]
    },
    {
      "cell_type": "code",
      "metadata": {
        "id": "j6ZeEEUOTzS7"
      },
      "source": [
        "# renomeando a ultima coluna (rótulos)\n",
        "xtrain.rename(columns={\"82\": \"rotulos\"}, inplace=True)\n",
        "xtest.rename(columns={\"82\": \"rotulos\"}, inplace=True)"
      ],
      "execution_count": 80,
      "outputs": []
    },
    {
      "cell_type": "code",
      "metadata": {
        "colab": {
          "base_uri": "https://localhost:8080/"
        },
        "id": "hcpXLjzQRTfP",
        "outputId": "438417d4-3983-4699-b118-e7c885a44dee"
      },
      "source": [
        "# contando quantos assistolicos temos no dataset de treino\n",
        "qtd_assistolicos = xtrain.query('rotulos == -1')[\"rotulos\"].count()\n",
        "qtd_normais = xtrain.query('rotulos == 1')[\"rotulos\"].count()\n",
        "\n",
        "print(f\"Quantidade de pacientes normais: {qtd_normais}\")\n",
        "print(f\"Quantidade de pacientes extra-sistolicos: {qtd_assistolicos}\")\n",
        "print(f\"Total: {qtd_normais + qtd_assistolicos}\")"
      ],
      "execution_count": 81,
      "outputs": [
        {
          "output_type": "stream",
          "name": "stdout",
          "text": [
            "Quantidade de pacientes normais: 294\n",
            "Quantidade de pacientes extra-sistolicos: 80\n",
            "Total: 374\n"
          ]
        }
      ]
    },
    {
      "cell_type": "code",
      "metadata": {
        "id": "SYgm_sAnPgnN"
      },
      "source": [
        "# Separar y real\n",
        "ytest = xtest['rotulos']\n",
        "ytrain = xtrain['rotulos']\n",
        "\n",
        "# Remover y do conjunto de treino\n",
        "xtest = xtest.drop(columns=['rotulos'])\n",
        "xtrain = xtrain.drop(columns=['rotulos'])"
      ],
      "execution_count": 82,
      "outputs": []
    },
    {
      "cell_type": "code",
      "metadata": {
        "colab": {
          "base_uri": "https://localhost:8080/"
        },
        "id": "vpwFsDmRs6g7",
        "outputId": "5b0dfcd6-fc4d-4e18-e7c6-eea0e026047b"
      },
      "source": [
        "print(\"Extra-sistolicos(treino):\", np.where(ytrain == -1)[0].shape)\n",
        "print(\"\\nNormais(treino):\", np.where(ytrain == 1)[0].shape)\n",
        "\n",
        "print(\"\\nExtra-sistolicos(teste):\", np.where(ytest == -1)[0].shape)\n",
        "print(\"\\nNormais(teste):\", np.where(ytest == 1)[0].shape)"
      ],
      "execution_count": 83,
      "outputs": [
        {
          "output_type": "stream",
          "name": "stdout",
          "text": [
            "Extra-sistolicos(treino): (80,)\n",
            "\n",
            "Normais(treino): (294,)\n",
            "\n",
            "Extra-sistolicos(teste): (26,)\n",
            "\n",
            "Normais(teste): (99,)\n"
          ]
        }
      ]
    },
    {
      "cell_type": "code",
      "metadata": {
        "colab": {
          "base_uri": "https://localhost:8080/"
        },
        "id": "YaTicD5YdAPW",
        "outputId": "b57bd749-1e52-4163-ce26-69bd60ad81be"
      },
      "source": [
        "# visualizando um batimento (uma linha da tabela)\n",
        "xtrain.iloc[np.where(ytrain == -1)[0][0]]"
      ],
      "execution_count": 84,
      "outputs": [
        {
          "output_type": "execute_result",
          "data": {
            "text/plain": [
              "1     0.088312\n",
              "2     0.141558\n",
              "3     0.209091\n",
              "4     0.283117\n",
              "5     0.331169\n",
              "        ...   \n",
              "77   -4.438961\n",
              "78   -3.558442\n",
              "79   -2.929870\n",
              "80   -2.510390\n",
              "81   -2.242857\n",
              "Name: 292, Length: 81, dtype: float64"
            ]
          },
          "metadata": {},
          "execution_count": 84
        }
      ]
    },
    {
      "cell_type": "code",
      "metadata": {
        "colab": {
          "base_uri": "https://localhost:8080/",
          "height": 609
        },
        "id": "lH8mIfBys7a6",
        "outputId": "9850ea74-bc34-4e05-bdb4-09057548f382"
      },
      "source": [
        "fig, axs = plt.subplots(1, # Gerar apenas uma figura \n",
        "                        figsize=(20, 10) # Tamanho da figura\n",
        "                        )\n",
        "\n",
        "\n",
        "\n",
        "# plotar primeiro batimento normal\n",
        "axs.plot(xtrain.iloc[np.where(ytrain == 1)[0][0]],\n",
        "            color='green', # Definir cor da linha\n",
        "          )\n",
        "\n",
        "# plotar primeiro batimento extrasistólico\n",
        "axs.plot(xtrain.iloc[np.where(ytrain == -1)[0][0]],\n",
        "            color='red', # Definir cor da linha\n",
        "          )\n",
        "\n",
        "axs.legend([\"normal\", \"extra-sistolico\"])"
      ],
      "execution_count": 85,
      "outputs": [
        {
          "output_type": "execute_result",
          "data": {
            "text/plain": [
              "<matplotlib.legend.Legend at 0x7f3d67994850>"
            ]
          },
          "metadata": {},
          "execution_count": 85
        },
        {
          "output_type": "display_data",
          "data": {
            "image/png": "[encoded data removed]",
            "text/plain": [
              "<Figure size 1440x720 with 1 Axes>"
            ]
          },
          "metadata": {
            "needs_background": "light"
          }
        }
      ]
    },
    {
      "cell_type": "code",
      "metadata": {
        "id": "syWOYVB_s8mK"
      },
      "source": [
        "from sklearn import linear_model as lm\n",
        "\n",
        "# Carregar modelo de regressão linear\n",
        "# Gerar coeficientes com base no seu conjunto de treinamento\n",
        "lm = lm.LinearRegression()\n",
        "model = lm.fit(xtrain,ytrain)"
      ],
      "execution_count": 86,
      "outputs": []
    },
    {
      "cell_type": "code",
      "metadata": {
        "id": "7jA3zKtgs9mK"
      },
      "source": [
        "# Coeficientes da regressão * novos dados de testes\n",
        "ypredicted = lm.predict(xtest)"
      ],
      "execution_count": 87,
      "outputs": []
    },
    {
      "cell_type": "code",
      "metadata": {
        "colab": {
          "base_uri": "https://localhost:8080/"
        },
        "id": "JqxDGmYSHsx2",
        "outputId": "976f3b19-99b2-4ca9-9d85-c4dcecae5e81"
      },
      "source": [
        "# colocar os valores continuos em duas classes -1 ou 1.\n",
        "ypredicted_transformado = []\n",
        "\n",
        "for predicao in ypredicted:\n",
        "    if predicao > 0:\n",
        "       ypredicted_transformado.append(1)\n",
        "    elif predicao < 0:\n",
        "        ypredicted_transformado.append(-1)\n",
        "        \n",
        "\n",
        "print(ypredicted_transformado) \n",
        "print(len(ypredicted_transformado))"
      ],
      "execution_count": 88,
      "outputs": [
        {
          "output_type": "stream",
          "name": "stdout",
          "text": [
            "[1, 1, 1, 1, 1, 1, 1, 1, 1, 1, 1, 1, 1, 1, 1, 1, 1, 1, 1, 1, 1, 1, 1, 1, 1, 1, 1, 1, 1, 1, 1, 1, 1, 1, 1, 1, 1, 1, 1, 1, 1, 1, 1, -1, 1, -1, 1, 1, 1, 1, 1, -1, 1, 1, 1, 1, 1, 1, 1, 1, 1, 1, 1, 1, 1, 1, 1, 1, 1, 1, 1, 1, 1, 1, 1, 1, 1, 1, 1, 1, 1, 1, 1, 1, 1, 1, 1, 1, 1, 1, 1, 1, 1, 1, 1, 1, 1, 1, 1, -1, 1, -1, -1, 1, -1, 1, 1, -1, 1, -1, -1, 1, 1, -1, 1, 1, -1, -1, 1, -1, 1, -1, 1, -1, 1]\n",
            "125\n"
          ]
        }
      ]
    },
    {
      "cell_type": "code",
      "metadata": {
        "id": "iMxViKM19UUp"
      },
      "source": [
        "# verificar as predições certas e erradas.\n",
        "certas = 0\n",
        "erradas = 0\n",
        "index_erradas = []\n",
        "for i in range(len(ypredicted_transformado)):\n",
        "    if ytest[i] == ypredicted_transformado[i]:\n",
        "        certas += 1\n",
        "    else:\n",
        "        erradas += 1\n",
        "        index_erradas.append(i)"
      ],
      "execution_count": 89,
      "outputs": []
    },
    {
      "cell_type": "code",
      "metadata": {
        "colab": {
          "base_uri": "https://localhost:8080/"
        },
        "id": "eQr9IV7RHWQG",
        "outputId": "9ef89280-33b4-4e35-eaf7-d3953734f6ad"
      },
      "source": [
        "print(f\"O treino teve {certas} predicoes certas e {erradas} predicoes erradas.\")"
      ],
      "execution_count": 90,
      "outputs": [
        {
          "output_type": "stream",
          "name": "stdout",
          "text": [
            "O treino teve 109 predicoes certas e 16 predicoes erradas.\n"
          ]
        }
      ]
    },
    {
      "cell_type": "code",
      "metadata": {
        "id": "zMIFq3l3fUbT"
      },
      "source": [
        "# verificar falsos positivos e falsos negativos\n",
        "falsos_neg = 0\n",
        "falsos_pos = 0\n",
        "index_falsos_neg = []\n",
        "index_falsos_pos = []\n",
        "\n",
        "for index in index_erradas:\n",
        "    if ypredicted_transformado[index] == 1 and ytest[index] == -1:  # previu como pessoa normal, mas eh extra-sistolico\n",
        "        falsos_neg += 1\n",
        "        index_falsos_neg.append(index)\n",
        "\n",
        "    elif ypredicted_transformado[index] == -1 and ytest[index] == 1: # previu como extra_sistolico, mas eh pessoa normal\n",
        "        falsos_pos += 1\n",
        "        index_falsos_pos.append(index)\n"
      ],
      "execution_count": 92,
      "outputs": []
    },
    {
      "cell_type": "code",
      "metadata": {
        "colab": {
          "base_uri": "https://localhost:8080/"
        },
        "id": "Qy_S0gB2k93u",
        "outputId": "f7b40ee9-dd36-45ff-da31-dbfffc9428b2"
      },
      "source": [
        "print(f\"O treino teve {falsos_neg} falsos negativos e {falsos_pos} falsos positivos.\")"
      ],
      "execution_count": 93,
      "outputs": [
        {
          "output_type": "stream",
          "name": "stdout",
          "text": [
            "O treino teve 13 falsos negativos e 3 falsos positivos.\n"
          ]
        }
      ]
    },
    {
      "cell_type": "code",
      "metadata": {
        "colab": {
          "base_uri": "https://localhost:8080/",
          "height": 489
        },
        "id": "Gbdd0jwGs_mr",
        "outputId": "bd0e0058-1eb7-471e-9158-570c4ab8ab81"
      },
      "source": [
        "fig, axs = plt.subplots(1, # Gerar apenas uma figura \n",
        "                        figsize=(15, 7.5) # Tamanho da figura\n",
        "                        )\n",
        "\n",
        "# plotar y predito com a representação de circulos azuis\n",
        "axs.plot(ypredicted , 'bo')\n",
        "\n",
        "# plotar y real com a representação de uma reta vermelha\n",
        "axs.plot(ytest, '_r')\n",
        "\n",
        "# plotar limiar definido para classificação\n",
        "axs.plot(np.zeros([ypredicted.shape[0], 1]),\n",
        "        color='green', linestyle='dashed')\n",
        "\n",
        "# plotar erros cometidos pelo modelo de regressão de falsos negativos\n",
        "axs.plot(index_falsos_neg, ypredicted[index_falsos_neg], 'ro')\n",
        "\n",
        "# plotar erros cometidos pelo modelo de regressão de falsos positivos\n",
        "axs.plot(index_falsos_pos, ypredicted[index_falsos_pos], 'ko')\n",
        "\n",
        "plt.title('Predições do modelo de regressão linear múltipla')\n",
        "axs.legend([\"Predicoes corretas\", \"Rotulos reais\", \"Limiar\", \"Falsos negativos\", \"Falsos positivos\"])"
      ],
      "execution_count": 94,
      "outputs": [
        {
          "output_type": "execute_result",
          "data": {
            "text/plain": [
              "<matplotlib.legend.Legend at 0x7f3d67994b90>"
            ]
          },
          "metadata": {},
          "execution_count": 94
        },
        {
          "output_type": "display_data",
          "data": {
            "image/png": "[encoded data removed]",
            "text/plain": [
              "<Figure size 1080x540 with 1 Axes>"
            ]
          },
          "metadata": {
            "needs_background": "light"
          }
        }
      ]
    },
    {
      "cell_type": "code",
      "metadata": {
        "colab": {
          "base_uri": "https://localhost:8080/",
          "height": 330
        },
        "id": "CeOX9cYttAa6",
        "outputId": "c1ffc36b-49cf-43b3-db30-d66f88f60376"
      },
      "source": [
        "from sklearn.metrics import confusion_matrix, ConfusionMatrixDisplay\n",
        "\n",
        "# Exibir acurácia da classificação\n",
        "print(\"Acuracia do modelo: %.4f \\n\" %(1 - (len(index_falsos_neg) + len(index_falsos_pos))/len(ytest)))\n",
        "\n",
        "# Exibir a matriz de confusão\n",
        "cm = confusion_matrix(ytest, ypredicted_transformado)\n",
        "disp = ConfusionMatrixDisplay(confusion_matrix=cm, display_labels=[\"Extra-sistolico\", \"Normal\", \"Extra-sistolico\", \"Normal\"])\n",
        "disp.plot()"
      ],
      "execution_count": 107,
      "outputs": [
        {
          "output_type": "stream",
          "name": "stdout",
          "text": [
            "Acuracia do modelo: 0.8720 \n",
            "\n"
          ]
        },
        {
          "output_type": "execute_result",
          "data": {
            "text/plain": [
              "<sklearn.metrics._plot.confusion_matrix.ConfusionMatrixDisplay at 0x7f3d729c6950>"
            ]
          },
          "metadata": {},
          "execution_count": 107
        },
        {
          "output_type": "display_data",
          "data": {
            "image/png": "[encoded data removed]",
            "text/plain": [
              "<Figure size 432x288 with 2 Axes>"
            ]
          },
          "metadata": {
            "needs_background": "light"
          }
        }
      ]
    }
  ]
}
