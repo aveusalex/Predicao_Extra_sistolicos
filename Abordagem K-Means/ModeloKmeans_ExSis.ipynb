{
  "nbformat": 4,
  "nbformat_minor": 0,
  "metadata": {
    "colab": {
      "name": "ModeloKmeans_ExSis.ipynb",
      "provenance": [],
      "collapsed_sections": []
    },
    "kernelspec": {
      "display_name": "Python 3",
      "name": "python3"
    }
  },
  "cells": [
    {
      "cell_type": "markdown",
      "metadata": {
        "id": "UWaqioPLYf5F"
      },
      "source": [
        ">Instituto de Informática  <br>\n",
        "Alex Echeverria<br>\n",
        "### Universidade Federal de Goiás <br>\n",
        "### **Inteligência Artificial Aplicada a Saúde** <br>\n",
        "\n",
        "# Batimentos cardíacos - MIT-BIH | Paciente 2\n"
      ]
    },
    {
      "cell_type": "markdown",
      "metadata": {
        "id": "9flTCYkojtAD"
      },
      "source": [
        "#### **Lê o conjunto de dados e os estrutura em diferentes variáveis**"
      ]
    },
    {
      "cell_type": "code",
      "metadata": {
        "id": "Ww1Rpnp0P1D1"
      },
      "source": [
        "import os, sys\n",
        "import numpy as np\n",
        "import pandas as pd\n",
        "import matplotlib.pyplot as plt\n",
        "\n",
        "Paciente = '2';\n",
        "\n",
        "# Definir o caminho onde o dataset se encontra\n",
        "base_path = 'https://raw.githubusercontent.com/aveusalex/Predicao_Extra_sistolicos/main/Paciente2/'\n",
        "\n",
        "# # Carregar dataset \n",
        "xtest = pd.read_csv(base_path + 'Teste.csv')\n",
        "xtrain = pd.read_csv(base_path + 'Treino.csv')\n",
        "idx_normal = pd.read_csv(base_path + 'Index.csv')\n",
        "\n",
        "# Separar y referencia\n",
        "ytest = xtest['82']\n",
        "ytrain = xtrain['82']\n",
        "\n",
        "# Remover y do conjunto de treino\n",
        "xtest = xtest.drop(columns=['82'])\n",
        "xtrain = xtrain.drop(columns=['82'])"
      ],
      "execution_count": null,
      "outputs": []
    },
    {
      "cell_type": "code",
      "metadata": {
        "colab": {
          "base_uri": "https://localhost:8080/",
          "height": 252
        },
        "id": "QICC9Rg1k0x0",
        "outputId": "eee0ce3f-020a-4785-cf8f-6921ef6e3928"
      },
      "source": [
        "xtest.head()"
      ],
      "execution_count": 71,
      "outputs": [
        {
          "output_type": "execute_result",
          "data": {
            "text/html": [
              "<div>\n",
              "<style scoped>\n",
              "    .dataframe tbody tr th:only-of-type {\n",
              "        vertical-align: middle;\n",
              "    }\n",
              "\n",
              "    .dataframe tbody tr th {\n",
              "        vertical-align: top;\n",
              "    }\n",
              "\n",
              "    .dataframe thead th {\n",
              "        text-align: right;\n",
              "    }\n",
              "</style>\n",
              "<table border=\"1\" class=\"dataframe\">\n",
              "  <thead>\n",
              "    <tr style=\"text-align: right;\">\n",
              "      <th></th>\n",
              "      <th>1</th>\n",
              "      <th>2</th>\n",
              "      <th>3</th>\n",
              "      <th>4</th>\n",
              "      <th>5</th>\n",
              "      <th>6</th>\n",
              "      <th>7</th>\n",
              "      <th>8</th>\n",
              "      <th>9</th>\n",
              "      <th>10</th>\n",
              "      <th>11</th>\n",
              "      <th>12</th>\n",
              "      <th>13</th>\n",
              "      <th>14</th>\n",
              "      <th>15</th>\n",
              "      <th>16</th>\n",
              "      <th>17</th>\n",
              "      <th>18</th>\n",
              "      <th>19</th>\n",
              "      <th>20</th>\n",
              "      <th>21</th>\n",
              "      <th>22</th>\n",
              "      <th>23</th>\n",
              "      <th>24</th>\n",
              "      <th>25</th>\n",
              "      <th>26</th>\n",
              "      <th>27</th>\n",
              "      <th>28</th>\n",
              "      <th>29</th>\n",
              "      <th>30</th>\n",
              "      <th>31</th>\n",
              "      <th>32</th>\n",
              "      <th>33</th>\n",
              "      <th>34</th>\n",
              "      <th>35</th>\n",
              "      <th>36</th>\n",
              "      <th>37</th>\n",
              "      <th>38</th>\n",
              "      <th>39</th>\n",
              "      <th>40</th>\n",
              "      <th>...</th>\n",
              "      <th>42</th>\n",
              "      <th>43</th>\n",
              "      <th>44</th>\n",
              "      <th>45</th>\n",
              "      <th>46</th>\n",
              "      <th>47</th>\n",
              "      <th>48</th>\n",
              "      <th>49</th>\n",
              "      <th>50</th>\n",
              "      <th>51</th>\n",
              "      <th>52</th>\n",
              "      <th>53</th>\n",
              "      <th>54</th>\n",
              "      <th>55</th>\n",
              "      <th>56</th>\n",
              "      <th>57</th>\n",
              "      <th>58</th>\n",
              "      <th>59</th>\n",
              "      <th>60</th>\n",
              "      <th>61</th>\n",
              "      <th>62</th>\n",
              "      <th>63</th>\n",
              "      <th>64</th>\n",
              "      <th>65</th>\n",
              "      <th>66</th>\n",
              "      <th>67</th>\n",
              "      <th>68</th>\n",
              "      <th>69</th>\n",
              "      <th>70</th>\n",
              "      <th>71</th>\n",
              "      <th>72</th>\n",
              "      <th>73</th>\n",
              "      <th>74</th>\n",
              "      <th>75</th>\n",
              "      <th>76</th>\n",
              "      <th>77</th>\n",
              "      <th>78</th>\n",
              "      <th>79</th>\n",
              "      <th>80</th>\n",
              "      <th>81</th>\n",
              "    </tr>\n",
              "  </thead>\n",
              "  <tbody>\n",
              "    <tr>\n",
              "      <th>0</th>\n",
              "      <td>-1.812987</td>\n",
              "      <td>-1.809091</td>\n",
              "      <td>-1.742857</td>\n",
              "      <td>-1.628571</td>\n",
              "      <td>-1.510390</td>\n",
              "      <td>-1.431169</td>\n",
              "      <td>-1.406494</td>\n",
              "      <td>-1.414286</td>\n",
              "      <td>-1.418182</td>\n",
              "      <td>-1.392208</td>\n",
              "      <td>-1.322078</td>\n",
              "      <td>-1.194805</td>\n",
              "      <td>-1.037662</td>\n",
              "      <td>-0.827273</td>\n",
              "      <td>-0.637662</td>\n",
              "      <td>-0.429870</td>\n",
              "      <td>-0.249351</td>\n",
              "      <td>-0.112987</td>\n",
              "      <td>0.031169</td>\n",
              "      <td>0.136364</td>\n",
              "      <td>2.129870e-01</td>\n",
              "      <td>0.233766</td>\n",
              "      <td>0.253247</td>\n",
              "      <td>0.349351</td>\n",
              "      <td>0.541558</td>\n",
              "      <td>0.846753</td>\n",
              "      <td>1.274026</td>\n",
              "      <td>1.931169</td>\n",
              "      <td>2.825974</td>\n",
              "      <td>3.964935</td>\n",
              "      <td>5.233766</td>\n",
              "      <td>6.538961</td>\n",
              "      <td>7.653247</td>\n",
              "      <td>8.329870</td>\n",
              "      <td>8.558442</td>\n",
              "      <td>8.293506</td>\n",
              "      <td>7.570130</td>\n",
              "      <td>6.412987</td>\n",
              "      <td>4.779221</td>\n",
              "      <td>2.777922</td>\n",
              "      <td>...</td>\n",
              "      <td>-1.723377</td>\n",
              "      <td>-4.015584</td>\n",
              "      <td>-6.161039</td>\n",
              "      <td>-8.066234</td>\n",
              "      <td>-9.715584</td>\n",
              "      <td>-11.063636</td>\n",
              "      <td>-12.019481</td>\n",
              "      <td>-12.403896</td>\n",
              "      <td>-12.235065</td>\n",
              "      <td>-11.457143</td>\n",
              "      <td>-10.137662</td>\n",
              "      <td>-8.310390</td>\n",
              "      <td>-6.228571</td>\n",
              "      <td>-4.164935</td>\n",
              "      <td>-2.296104</td>\n",
              "      <td>-0.640260</td>\n",
              "      <td>0.728571</td>\n",
              "      <td>1.775325</td>\n",
              "      <td>2.472727</td>\n",
              "      <td>2.724675</td>\n",
              "      <td>2.715584</td>\n",
              "      <td>2.476623</td>\n",
              "      <td>2.145455</td>\n",
              "      <td>1.802597</td>\n",
              "      <td>1.493506</td>\n",
              "      <td>1.157143</td>\n",
              "      <td>0.816883</td>\n",
              "      <td>0.522078</td>\n",
              "      <td>0.310390</td>\n",
              "      <td>0.124675</td>\n",
              "      <td>-0.001299</td>\n",
              "      <td>-0.090909</td>\n",
              "      <td>-0.100000</td>\n",
              "      <td>-0.040260</td>\n",
              "      <td>0.007792</td>\n",
              "      <td>0.055844</td>\n",
              "      <td>0.061039</td>\n",
              "      <td>0.036364</td>\n",
              "      <td>-0.032468</td>\n",
              "      <td>-0.061039</td>\n",
              "    </tr>\n",
              "    <tr>\n",
              "      <th>1</th>\n",
              "      <td>-0.228571</td>\n",
              "      <td>-0.155844</td>\n",
              "      <td>-0.079221</td>\n",
              "      <td>-0.015584</td>\n",
              "      <td>-0.014286</td>\n",
              "      <td>0.010390</td>\n",
              "      <td>-0.025974</td>\n",
              "      <td>0.016883</td>\n",
              "      <td>0.046753</td>\n",
              "      <td>0.119481</td>\n",
              "      <td>0.161039</td>\n",
              "      <td>0.194805</td>\n",
              "      <td>0.232468</td>\n",
              "      <td>0.259740</td>\n",
              "      <td>0.333766</td>\n",
              "      <td>0.401299</td>\n",
              "      <td>0.457143</td>\n",
              "      <td>0.535065</td>\n",
              "      <td>0.659740</td>\n",
              "      <td>0.894805</td>\n",
              "      <td>1.183117e+00</td>\n",
              "      <td>1.437662</td>\n",
              "      <td>1.583117</td>\n",
              "      <td>1.632468</td>\n",
              "      <td>1.592208</td>\n",
              "      <td>1.406494</td>\n",
              "      <td>1.198701</td>\n",
              "      <td>0.815584</td>\n",
              "      <td>0.323377</td>\n",
              "      <td>-0.370130</td>\n",
              "      <td>-1.087013</td>\n",
              "      <td>-1.801299</td>\n",
              "      <td>-2.375325</td>\n",
              "      <td>-2.658442</td>\n",
              "      <td>-2.581818</td>\n",
              "      <td>-2.100000</td>\n",
              "      <td>-1.316883</td>\n",
              "      <td>-0.468831</td>\n",
              "      <td>0.154545</td>\n",
              "      <td>0.277922</td>\n",
              "      <td>...</td>\n",
              "      <td>-0.383117</td>\n",
              "      <td>-0.731169</td>\n",
              "      <td>-0.961039</td>\n",
              "      <td>-1.027273</td>\n",
              "      <td>-0.922078</td>\n",
              "      <td>-0.623377</td>\n",
              "      <td>-0.257143</td>\n",
              "      <td>0.074026</td>\n",
              "      <td>0.203896</td>\n",
              "      <td>0.076623</td>\n",
              "      <td>-0.237662</td>\n",
              "      <td>-0.614286</td>\n",
              "      <td>-0.975325</td>\n",
              "      <td>-1.209091</td>\n",
              "      <td>-1.122078</td>\n",
              "      <td>-0.596104</td>\n",
              "      <td>0.375325</td>\n",
              "      <td>1.562338</td>\n",
              "      <td>2.627273</td>\n",
              "      <td>3.167532</td>\n",
              "      <td>3.151948</td>\n",
              "      <td>2.762338</td>\n",
              "      <td>2.237662</td>\n",
              "      <td>1.774026</td>\n",
              "      <td>1.357143</td>\n",
              "      <td>1.053247</td>\n",
              "      <td>0.901299</td>\n",
              "      <td>0.805195</td>\n",
              "      <td>0.844156</td>\n",
              "      <td>0.906494</td>\n",
              "      <td>0.958442</td>\n",
              "      <td>0.954545</td>\n",
              "      <td>0.902597</td>\n",
              "      <td>0.825974</td>\n",
              "      <td>0.722078</td>\n",
              "      <td>0.638961</td>\n",
              "      <td>0.598701</td>\n",
              "      <td>0.535065</td>\n",
              "      <td>0.523377</td>\n",
              "      <td>0.488312</td>\n",
              "    </tr>\n",
              "    <tr>\n",
              "      <th>2</th>\n",
              "      <td>-0.451948</td>\n",
              "      <td>-0.370130</td>\n",
              "      <td>-0.293506</td>\n",
              "      <td>-0.209091</td>\n",
              "      <td>-0.131169</td>\n",
              "      <td>-0.050649</td>\n",
              "      <td>0.028571</td>\n",
              "      <td>0.037662</td>\n",
              "      <td>0.087013</td>\n",
              "      <td>0.138961</td>\n",
              "      <td>0.140260</td>\n",
              "      <td>0.196104</td>\n",
              "      <td>0.248052</td>\n",
              "      <td>0.292208</td>\n",
              "      <td>0.338961</td>\n",
              "      <td>0.336364</td>\n",
              "      <td>0.370130</td>\n",
              "      <td>0.436364</td>\n",
              "      <td>0.509091</td>\n",
              "      <td>0.635065</td>\n",
              "      <td>8.000000e-01</td>\n",
              "      <td>0.911688</td>\n",
              "      <td>0.870130</td>\n",
              "      <td>0.636364</td>\n",
              "      <td>0.176623</td>\n",
              "      <td>-0.485714</td>\n",
              "      <td>-1.297403</td>\n",
              "      <td>-2.298701</td>\n",
              "      <td>-3.516883</td>\n",
              "      <td>-4.818182</td>\n",
              "      <td>-6.038961</td>\n",
              "      <td>-6.993506</td>\n",
              "      <td>-7.532468</td>\n",
              "      <td>-7.610390</td>\n",
              "      <td>-7.190909</td>\n",
              "      <td>-6.296104</td>\n",
              "      <td>-5.087013</td>\n",
              "      <td>-3.777922</td>\n",
              "      <td>-2.644156</td>\n",
              "      <td>-1.822078</td>\n",
              "      <td>...</td>\n",
              "      <td>-0.762338</td>\n",
              "      <td>-0.103896</td>\n",
              "      <td>0.664935</td>\n",
              "      <td>1.512987</td>\n",
              "      <td>2.398701</td>\n",
              "      <td>3.249351</td>\n",
              "      <td>4.019481</td>\n",
              "      <td>4.503896</td>\n",
              "      <td>4.559740</td>\n",
              "      <td>4.241558</td>\n",
              "      <td>3.723377</td>\n",
              "      <td>3.157143</td>\n",
              "      <td>2.693506</td>\n",
              "      <td>2.463636</td>\n",
              "      <td>2.538961</td>\n",
              "      <td>3.020779</td>\n",
              "      <td>3.754545</td>\n",
              "      <td>4.548052</td>\n",
              "      <td>5.120779</td>\n",
              "      <td>5.244156</td>\n",
              "      <td>4.888312</td>\n",
              "      <td>4.174026</td>\n",
              "      <td>3.383117</td>\n",
              "      <td>2.594805</td>\n",
              "      <td>1.945455</td>\n",
              "      <td>1.518182</td>\n",
              "      <td>1.275325</td>\n",
              "      <td>1.170130</td>\n",
              "      <td>1.072727</td>\n",
              "      <td>0.963636</td>\n",
              "      <td>0.883117</td>\n",
              "      <td>0.857143</td>\n",
              "      <td>0.802597</td>\n",
              "      <td>0.710390</td>\n",
              "      <td>0.615584</td>\n",
              "      <td>0.536364</td>\n",
              "      <td>0.544156</td>\n",
              "      <td>0.525974</td>\n",
              "      <td>0.538961</td>\n",
              "      <td>0.566234</td>\n",
              "    </tr>\n",
              "    <tr>\n",
              "      <th>3</th>\n",
              "      <td>-0.383117</td>\n",
              "      <td>-0.427273</td>\n",
              "      <td>-0.476623</td>\n",
              "      <td>-0.598701</td>\n",
              "      <td>-0.698701</td>\n",
              "      <td>-0.762338</td>\n",
              "      <td>-0.812987</td>\n",
              "      <td>-0.820779</td>\n",
              "      <td>-0.783117</td>\n",
              "      <td>-0.672727</td>\n",
              "      <td>-0.506494</td>\n",
              "      <td>-0.301299</td>\n",
              "      <td>-0.115584</td>\n",
              "      <td>-0.010390</td>\n",
              "      <td>0.066234</td>\n",
              "      <td>0.155844</td>\n",
              "      <td>0.203896</td>\n",
              "      <td>0.263636</td>\n",
              "      <td>0.346753</td>\n",
              "      <td>0.461039</td>\n",
              "      <td>7.298701e-01</td>\n",
              "      <td>1.163636</td>\n",
              "      <td>1.833766</td>\n",
              "      <td>2.724675</td>\n",
              "      <td>3.801299</td>\n",
              "      <td>5.070130</td>\n",
              "      <td>6.355844</td>\n",
              "      <td>7.584416</td>\n",
              "      <td>8.740260</td>\n",
              "      <td>9.783117</td>\n",
              "      <td>10.718182</td>\n",
              "      <td>11.501299</td>\n",
              "      <td>12.064935</td>\n",
              "      <td>12.306494</td>\n",
              "      <td>12.157143</td>\n",
              "      <td>11.551948</td>\n",
              "      <td>10.512987</td>\n",
              "      <td>8.971429</td>\n",
              "      <td>6.985714</td>\n",
              "      <td>4.641558</td>\n",
              "      <td>...</td>\n",
              "      <td>-0.603896</td>\n",
              "      <td>-3.193506</td>\n",
              "      <td>-5.572727</td>\n",
              "      <td>-7.661039</td>\n",
              "      <td>-9.310390</td>\n",
              "      <td>-10.511688</td>\n",
              "      <td>-11.319481</td>\n",
              "      <td>-11.744156</td>\n",
              "      <td>-11.825974</td>\n",
              "      <td>-11.538961</td>\n",
              "      <td>-10.902597</td>\n",
              "      <td>-9.992208</td>\n",
              "      <td>-8.884416</td>\n",
              "      <td>-7.662338</td>\n",
              "      <td>-6.390909</td>\n",
              "      <td>-5.128571</td>\n",
              "      <td>-3.900000</td>\n",
              "      <td>-2.829870</td>\n",
              "      <td>-1.924675</td>\n",
              "      <td>-1.176623</td>\n",
              "      <td>-0.625974</td>\n",
              "      <td>-0.212987</td>\n",
              "      <td>0.022078</td>\n",
              "      <td>0.164935</td>\n",
              "      <td>0.231169</td>\n",
              "      <td>0.254545</td>\n",
              "      <td>0.206494</td>\n",
              "      <td>0.220779</td>\n",
              "      <td>0.280519</td>\n",
              "      <td>0.329870</td>\n",
              "      <td>0.396104</td>\n",
              "      <td>0.507792</td>\n",
              "      <td>0.544156</td>\n",
              "      <td>0.584416</td>\n",
              "      <td>0.581818</td>\n",
              "      <td>0.509091</td>\n",
              "      <td>0.422078</td>\n",
              "      <td>0.350649</td>\n",
              "      <td>0.283117</td>\n",
              "      <td>0.249351</td>\n",
              "    </tr>\n",
              "    <tr>\n",
              "      <th>4</th>\n",
              "      <td>-1.629870</td>\n",
              "      <td>-1.742857</td>\n",
              "      <td>-1.851948</td>\n",
              "      <td>-1.983117</td>\n",
              "      <td>-2.107792</td>\n",
              "      <td>-2.181818</td>\n",
              "      <td>-2.174026</td>\n",
              "      <td>-2.124675</td>\n",
              "      <td>-2.063636</td>\n",
              "      <td>-1.914286</td>\n",
              "      <td>-1.762338</td>\n",
              "      <td>-1.623377</td>\n",
              "      <td>-1.474026</td>\n",
              "      <td>-1.397403</td>\n",
              "      <td>-1.309091</td>\n",
              "      <td>-1.181818</td>\n",
              "      <td>-1.045455</td>\n",
              "      <td>-0.890909</td>\n",
              "      <td>-0.631169</td>\n",
              "      <td>-0.348052</td>\n",
              "      <td>2.879641e-15</td>\n",
              "      <td>0.468831</td>\n",
              "      <td>1.105195</td>\n",
              "      <td>1.922078</td>\n",
              "      <td>2.850649</td>\n",
              "      <td>3.877922</td>\n",
              "      <td>4.887013</td>\n",
              "      <td>5.928571</td>\n",
              "      <td>6.932468</td>\n",
              "      <td>7.833766</td>\n",
              "      <td>8.694805</td>\n",
              "      <td>9.440260</td>\n",
              "      <td>9.955844</td>\n",
              "      <td>10.257143</td>\n",
              "      <td>10.119481</td>\n",
              "      <td>9.570130</td>\n",
              "      <td>8.681818</td>\n",
              "      <td>7.459740</td>\n",
              "      <td>5.898701</td>\n",
              "      <td>4.096104</td>\n",
              "      <td>...</td>\n",
              "      <td>-0.116883</td>\n",
              "      <td>-2.303896</td>\n",
              "      <td>-4.412987</td>\n",
              "      <td>-6.242857</td>\n",
              "      <td>-7.776623</td>\n",
              "      <td>-8.998701</td>\n",
              "      <td>-9.953247</td>\n",
              "      <td>-10.540260</td>\n",
              "      <td>-10.811688</td>\n",
              "      <td>-10.771429</td>\n",
              "      <td>-10.438961</td>\n",
              "      <td>-9.829870</td>\n",
              "      <td>-9.006494</td>\n",
              "      <td>-8.010390</td>\n",
              "      <td>-6.946753</td>\n",
              "      <td>-5.837662</td>\n",
              "      <td>-4.732468</td>\n",
              "      <td>-3.676623</td>\n",
              "      <td>-2.744156</td>\n",
              "      <td>-1.931169</td>\n",
              "      <td>-1.341558</td>\n",
              "      <td>-0.938961</td>\n",
              "      <td>-0.655844</td>\n",
              "      <td>-0.535065</td>\n",
              "      <td>-0.427273</td>\n",
              "      <td>-0.301299</td>\n",
              "      <td>-0.233766</td>\n",
              "      <td>-0.163636</td>\n",
              "      <td>-0.055844</td>\n",
              "      <td>-0.019481</td>\n",
              "      <td>0.057143</td>\n",
              "      <td>0.080519</td>\n",
              "      <td>0.063636</td>\n",
              "      <td>0.019481</td>\n",
              "      <td>-0.077922</td>\n",
              "      <td>-0.119481</td>\n",
              "      <td>-0.102597</td>\n",
              "      <td>-0.051948</td>\n",
              "      <td>-0.009091</td>\n",
              "      <td>0.011688</td>\n",
              "    </tr>\n",
              "  </tbody>\n",
              "</table>\n",
              "<p>5 rows × 81 columns</p>\n",
              "</div>"
            ],
            "text/plain": [
              "          1         2         3  ...        79        80        81\n",
              "0 -1.812987 -1.809091 -1.742857  ...  0.036364 -0.032468 -0.061039\n",
              "1 -0.228571 -0.155844 -0.079221  ...  0.535065  0.523377  0.488312\n",
              "2 -0.451948 -0.370130 -0.293506  ...  0.525974  0.538961  0.566234\n",
              "3 -0.383117 -0.427273 -0.476623  ...  0.350649  0.283117  0.249351\n",
              "4 -1.629870 -1.742857 -1.851948  ... -0.051948 -0.009091  0.011688\n",
              "\n",
              "[5 rows x 81 columns]"
            ]
          },
          "metadata": {},
          "execution_count": 71
        }
      ]
    },
    {
      "cell_type": "code",
      "metadata": {
        "colab": {
          "base_uri": "https://localhost:8080/"
        },
        "id": "eeeR3P3plBTE",
        "outputId": "89095245-c623-4ad3-ca91-edafd9adf257"
      },
      "source": [
        "xtest.shape"
      ],
      "execution_count": 72,
      "outputs": [
        {
          "output_type": "execute_result",
          "data": {
            "text/plain": [
              "(125, 81)"
            ]
          },
          "metadata": {},
          "execution_count": 72
        }
      ]
    },
    {
      "cell_type": "markdown",
      "metadata": {
        "id": "K4Bbn-ukj3-j"
      },
      "source": [
        "#### **Exibe os primeiros registros de batimentos normais e extra sistólicos, repectivamente**"
      ]
    },
    {
      "cell_type": "code",
      "metadata": {
        "colab": {
          "base_uri": "https://localhost:8080/",
          "height": 609
        },
        "id": "0xGqy1iIm9vW",
        "outputId": "bd361d7a-fd34-493b-ac6e-ca3f59814e2b"
      },
      "source": [
        "fig, axs = plt.subplots(1, figsize=(20, 10))\n",
        "\n",
        "# plotar primeiro batimento normal\n",
        "axs.plot(xtrain.iloc[np.where(ytrain == 1)[0][0]], color='green')\n",
        "\n",
        "# plotar primeiro batimento extra sistólico\n",
        "axs.plot(xtrain.iloc[np.where(ytrain == -1)[0][0]], color='red')\n",
        "axs.legend(['Normal', 'Extrasistolico'])"
      ],
      "execution_count": 74,
      "outputs": [
        {
          "output_type": "execute_result",
          "data": {
            "text/plain": [
              "<matplotlib.legend.Legend at 0x7fd17c48b0d0>"
            ]
          },
          "metadata": {},
          "execution_count": 74
        },
        {
          "output_type": "display_data",
          "data": {
            "image/png": "[encoded data removed]",
            "text/plain": [
              "<Figure size 1440x720 with 1 Axes>"
            ]
          },
          "metadata": {
            "needs_background": "light"
          }
        }
      ]
    },
    {
      "cell_type": "markdown",
      "metadata": {
        "id": "asRixrOLkJcL"
      },
      "source": [
        "#### **Gera o modelo para realizar os agrupamentos**\n",
        "\n",
        "\n",
        "> O número de clusters é igual à quantidade de classes no problema\n",
        "\n"
      ]
    },
    {
      "cell_type": "code",
      "metadata": {
        "id": "Cle0DO_u_hwv"
      },
      "source": [
        "from sklearn.cluster import KMeans\n",
        "\n",
        "# Gerar clusters pelo kmeans\n",
        "km = KMeans(n_clusters=2, random_state=0).fit(xtrain)"
      ],
      "execution_count": null,
      "outputs": []
    },
    {
      "cell_type": "markdown",
      "metadata": {
        "id": "_kmFguoKg0kI"
      },
      "source": [
        "#### **Identifica as classes mais próximas de cada centróide para realizar a classificação**\n",
        "> Portanto se o cluster 0 estiver mais próximo dos batimentos normais <br>\n",
        "Então o cluster 0 representa os batimentos normais e o cluster 1 os batimentos extra sistólicos. "
      ]
    },
    {
      "cell_type": "code",
      "metadata": {
        "colab": {
          "base_uri": "https://localhost:8080/"
        },
        "id": "QCZDBlmXFBlX",
        "outputId": "d3434280-c867-4337-eb77-fc84a2733a3d"
      },
      "source": [
        "real_c_y = []\n",
        "for idx, c in enumerate(km.cluster_centers_):\n",
        "  dist = np.linalg.norm(xtrain - c, axis=1)\n",
        "  real_c_y.append((idx, ytrain.iloc[np.where(dist == dist.min())[0][0]]))\n",
        "\n",
        "  del dist\n",
        "\n",
        "print(real_c_y)"
      ],
      "execution_count": null,
      "outputs": [
        {
          "name": "stdout",
          "output_type": "stream",
          "text": [
            "[(0, 1), (1, -1)]\n"
          ]
        }
      ]
    },
    {
      "cell_type": "markdown",
      "metadata": {
        "id": "O1ZtE-JvhWkH"
      },
      "source": [
        "#### **Atribui os novos dados aos clusters mais próximos**\n",
        "\n"
      ]
    },
    {
      "cell_type": "code",
      "metadata": {
        "id": "WTBLqvCwRU7_"
      },
      "source": [
        "result = km.predict(xtest)\n",
        "result_copy = result.copy()"
      ],
      "execution_count": null,
      "outputs": []
    },
    {
      "cell_type": "code",
      "metadata": {
        "id": "SQfaQZIZaRFn"
      },
      "source": [
        "# Substituir os clusters formados pelo kmeans pelas classes reais\n",
        "for c in range(len(real_c_y),):\n",
        "  result[np.where(result_copy == c)[0]] = real_c_y[c][1]"
      ],
      "execution_count": null,
      "outputs": []
    },
    {
      "cell_type": "code",
      "metadata": {
        "colab": {
          "base_uri": "https://localhost:8080/"
        },
        "id": "C2zgiVNnpQ-Q",
        "outputId": "b1b51e7f-46a7-4bb5-b9cb-1d2ca506b631"
      },
      "source": [
        "result"
      ],
      "execution_count": null,
      "outputs": [
        {
          "data": {
            "text/plain": [
              "array([ 1, -1, -1,  1,  1,  1,  1,  1,  1,  1, -1,  1,  1,  1,  1,  1,  1,\n",
              "        1,  1,  1,  1,  1,  1,  1,  1,  1,  1,  1,  1,  1,  1,  1, -1,  1,\n",
              "        1,  1,  1,  1,  1,  1,  1,  1,  1, -1,  1,  1,  1,  1,  1,  1,  1,\n",
              "        1,  1,  1,  1,  1,  1,  1,  1,  1,  1,  1,  1,  1,  1,  1,  1,  1,\n",
              "        1,  1,  1,  1,  1,  1,  1,  1,  1,  1,  1,  1,  1,  1,  1,  1,  1,\n",
              "        1,  1,  1,  1,  1,  1,  1,  1,  1,  1,  1,  1,  1,  1,  1, -1,  1,\n",
              "        1,  1,  1, -1, -1,  1,  1,  1,  1,  1, -1,  1,  1,  1, -1,  1,  1,\n",
              "        1, -1, -1,  1, -1,  1], dtype=int32)"
            ]
          },
          "execution_count": 7,
          "metadata": {},
          "output_type": "execute_result"
        }
      ]
    },
    {
      "cell_type": "code",
      "metadata": {
        "id": "yMmHfhfrqxFG"
      },
      "source": [
        "ytest.to_list()"
      ],
      "execution_count": null,
      "outputs": []
    },
    {
      "cell_type": "markdown",
      "metadata": {
        "id": "kvFXujUEhm6H"
      },
      "source": [
        "#### **Gera a matriz de confusão e acurácia total da classificação**\n",
        "\n",
        "\n",
        "> As linhas são a referência (y real)\n",
        ">> Linha 1 = Batimentos extra sistólicos <br>\n",
        "Linha 2 = Batimentos normais \n",
        "\n",
        "\n",
        "> As colunas correspondem a saida do modelo\n",
        ">> Coluna 1 = Batimentos extra sistólicos <br>\n",
        "Coluna 2 = batimentos normais\n"
      ]
    },
    {
      "cell_type": "code",
      "metadata": {
        "colab": {
          "base_uri": "https://localhost:8080/",
          "height": 386
        },
        "id": "H6ND0ycucQCJ",
        "outputId": "d840ef0a-131f-4a73-fd17-2cf9ccb4d0ea"
      },
      "source": [
        "from sklearn.metrics import confusion_matrix as conf_matrix\n",
        "from sklearn.metrics import ConfusionMatrixDisplay\n",
        "\n",
        "# Exibe a matriz de confusão\n",
        "cm = conf_matrix(ytest, result)\n",
        "print(cm)\n",
        "disp = ConfusionMatrixDisplay(cm, [\"Extra-sistolicos\", \"Normal\", \"Extra-sistolicos\", \"Normal\"])\n",
        "disp.plot()"
      ],
      "execution_count": null,
      "outputs": [
        {
          "name": "stdout",
          "output_type": "stream",
          "text": [
            "[[ 8 18]\n",
            " [ 5 94]]\n"
          ]
        },
        {
          "data": {
            "text/plain": [
              "<sklearn.metrics._plot.confusion_matrix.ConfusionMatrixDisplay at 0x7fd18d573a10>"
            ]
          },
          "execution_count": 9,
          "metadata": {},
          "output_type": "execute_result"
        },
        {
          "data": {
            "image/png": "[encoded data removed]",
            "text/plain": [
              "<Figure size 432x288 with 2 Axes>"
            ]
          },
          "metadata": {},
          "output_type": "display_data"
        }
      ]
    },
    {
      "cell_type": "code",
      "metadata": {
        "colab": {
          "base_uri": "https://localhost:8080/"
        },
        "id": "0-easxeLfUE6",
        "outputId": "4dba374f-ec6a-4ac6-e5ba-8a7209b433b8"
      },
      "source": [
        "# Mostra acurácia total da classificação\n",
        "correct_values = np.where(ytest == result)[0]\n",
        "print(\"Acurácia: %f \\n\" % (correct_values.shape[0] / result.shape[0]))\n",
        "\n",
        "del correct_values"
      ],
      "execution_count": null,
      "outputs": [
        {
          "name": "stdout",
          "output_type": "stream",
          "text": [
            "Acurácia: 0.816000 \n",
            "\n"
          ]
        }
      ]
    },
    {
      "cell_type": "markdown",
      "metadata": {
        "id": "LU-hbhimMY6r"
      },
      "source": [
        "## Quanto o modelo previu corretamente dos extra-sistólicos?"
      ]
    },
    {
      "cell_type": "code",
      "metadata": {
        "id": "n29hPnzeMYXr"
      },
      "source": [
        "# Temos 26 extra-sistólicos \n",
        "\n",
        "qtd_extra_sis = cm[0].sum() + cm[1][0]\n",
        "qtd_extra_previstos_correto = cm[0][0]\n",
        "qtd_extra_previstos_FP = cm[1][0]\n",
        "qtd_extra_previstos_FN = cm[0][1]"
      ],
      "execution_count": 79,
      "outputs": []
    },
    {
      "cell_type": "code",
      "metadata": {
        "id": "KUqP94KgheEO"
      },
      "source": [
        "def porcentagem(A:list) -> list:\n",
        "    \"\"\"\n",
        "    Recebe um array de valores decimais com diversas casas decimais e retorna\n",
        "    outro array de strings em porcentagem com duas casas decimais.\n",
        "    \"\"\"\n",
        "    aux = []\n",
        "    for i in A:\n",
        "        var = str(format(float(i)*100, \".2f\")) + \"%\"\n",
        "        aux.append(var)\n",
        "\n",
        "    return aux"
      ],
      "execution_count": 63,
      "outputs": []
    },
    {
      "cell_type": "code",
      "metadata": {
        "id": "_cCwZdgfkJQ7"
      },
      "source": [
        "porcentagens = porcentagem([qtd_extra_previstos_correto, qtd_extra_previstos_FN, qtd_extra_previstos_FP] / qtd_extra_sis)\n",
        "porcentagens"
      ],
      "execution_count": null,
      "outputs": []
    },
    {
      "cell_type": "code",
      "metadata": {
        "colab": {
          "base_uri": "https://localhost:8080/",
          "height": 266
        },
        "id": "tDJVHBsoQUYv",
        "outputId": "8cae6752-aac7-42c6-944c-8f099e1212c2"
      },
      "source": [
        "import matplotlib.pyplot as plt\n",
        "\n",
        "porcentagens = [qtd_extra_previstos_correto, qtd_extra_previstos_FN, qtd_extra_previstos_FP] / qtd_extra_sis\n",
        "porcentagens_str = porcentagem(porcentagens)\n",
        "plot = plt.bar([0, 1, 2], porcentagens)\n",
        "plt.xticks([0, 1, 2], [\"Corretas\", \"Falsos negativos\", \"Falsos positivos\"])\n",
        "plt.ylabel('Predições')\n",
        "for i in range(3):\n",
        "    plt.text(i, porcentagens[i], porcentagens_str[i])\n",
        "plt.show()"
      ],
      "execution_count": 81,
      "outputs": [
        {
          "output_type": "display_data",
          "data": {
            "image/png": "[encoded data removed]",
            "text/plain": [
              "<Figure size 432x288 with 1 Axes>"
            ]
          },
          "metadata": {
            "needs_background": "light"
          }
        }
      ]
    }
  ]
}